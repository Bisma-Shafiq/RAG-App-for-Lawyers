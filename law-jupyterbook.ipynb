{
 "cells": [
  {
   "cell_type": "code",
   "execution_count": 76,
   "metadata": {},
   "outputs": [],
   "source": [
    "import google.generativeai as genai\n",
    "from langchain_google_genai import ChatGoogleGenerativeAI\n",
    "import os\n",
    "from dotenv import load_dotenv\n",
    "load_dotenv()\n",
    "\n",
    "GOOGLE_API_KEY = os.getenv(\"GOOGLE_API_KEY\")\n",
    "genai.configure(api_key=GOOGLE_API_KEY)\n",
    "\n",
    "llm_model = ChatGoogleGenerativeAI(api_key=GOOGLE_API_KEY, model = \"gemini-1.5-flash\")\n"
   ]
  },
  {
   "cell_type": "code",
   "execution_count": 77,
   "metadata": {},
   "outputs": [
    {
     "name": "stdout",
     "output_type": "stream",
     "text": [
      "content='Retrieval-Augmented Generation: AI using external knowledge for improved responses.' additional_kwargs={} response_metadata={'prompt_feedback': {'block_reason': 0, 'safety_ratings': []}, 'finish_reason': 'STOP', 'safety_ratings': []} id='run-6f3a27b4-88bf-48f7-9505-c9501592fd53-0' usage_metadata={'input_tokens': 11, 'output_tokens': 15, 'total_tokens': 26, 'input_token_details': {'cache_read': 0}}\n"
     ]
    }
   ],
   "source": [
    "result = llm_model.invoke(\"what is rag in AI in 10 words\")\n",
    "print(result)"
   ]
  },
  {
   "cell_type": "markdown",
   "metadata": {},
   "source": [
    "# Load PDF"
   ]
  },
  {
   "cell_type": "code",
   "execution_count": 78,
   "metadata": {},
   "outputs": [
    {
     "data": {
      "text/plain": [
       "[Document(metadata={'source': 'pdfs\\\\case study.pdf', 'page': 0}, page_content='Case Studies \\n“I’ve learned that people will forget what you’ve said, people will forget what \\nyou did, but people will never forget how you made them feel.”  Maya Angelou \\nWhere case studies can be used: \\n\\uf0b7 Websites (ideally front page or one click away) \\n\\uf0b7 Fundraising Applications \\n\\uf0b7 Annual Reports \\n\\uf0b7 Press releases \\n\\uf0b7 Newsletters \\n\\uf0b7 Social media \\n\\uf0b7 Fundraising events (eg with client in person) \\n\\uf0b7 Conferences \\n\\uf0b7 Policy briefings \\n\\uf0b7 Volunteer recruitment \\n\\uf0b7 Radio Appeals/Podcasts \\n \\nTips for obtaining case studies \\n \\n \\nChoose a case that either is typical of your clinic’s work, or that demonstrates a current policy issue.  \\n \\n \\nWhen you ask a client for permission to use their story, explain to them the purposes for which that \\nthe case study will be used and how this will help the clinic, and other people like them, in the \\nfuture.  For instance, this will help the clinic to raise money; this will help us to change the law so \\nthat this doesn’t happen in the future, etc.   \\n \\n \\nMake sure that the client knows that their name will not be used and that they will be able to make \\nchanges to any final copy of it before it is used. \\n \\n \\nAsk the client to tell you their story in their own words e.g. \\n \\n\\uf0b7 Tell me about your legal problem \\n\\uf0b7 What led to these legal problems? \\n\\uf0b7 How did the clinic help? \\n\\uf0b7 What difference did the help make? \\n\\uf0b7 What might have happened if the client hadn’t received that advice? \\n \\nDon’t be afraid to leave silences – sometimes the most useful detail comes after some reflection. \\nSometimes people also need some prompting – here are some useful prompt questions:'),\n",
       " Document(metadata={'source': 'pdfs\\\\case study.pdf', 'page': 1}, page_content=\"What was that like? \\nCan you tell me some more about that? \\nWhat led to that decision? \\nCan you give me an example? \\nWhat happened next? \\nHow did that feel? \\n \\n \\nTry to record any interesting small details about the story or the client’s situation that make the \\nstory unique and bring the events to life. \\n \\n \\nCheck the basic story with the lawyer who was involved in case there are any gaps. \\n \\n \\nDraft the case study (e.g. 400 words depending on purpose) and send it to both the lawyer and the \\nclient for their approval.  We often use the real name of the lawyer and their firm (which also might \\nwant to use it for their CSR publicity) but always anonymise the client.  Ask the client to confirm in \\nwriting their permission for all relevant organisations to use it (ensure you are GDPR compliant) \\n \\n \\nImages can really help to bring a case study to life. If you can’t use a photo of the client, include \\nphotos where you can of images you might associate with the client’s situation, or the support they \\nwere given. For instance: \\n \\n\\uf0b7 a pile of letters \\n\\uf0b7 the lawyer involved \\n\\uf0b7 people talking at the clinic (without showing their faces) \\n\\uf0b7 detail such as someone’s hands holding a pen, or a cup of tea \\n \\n \\nRemember: \\n\\uf0b7 Avoid too much detail \\n\\uf0b7 Don’t be too distant or too embroiled \\n\\uf0b7 The reader/listener should be able to understand what the client was feeling (i.e. make them \\nfeel some emotion) \\n\\uf0b7 Take them on a journey with a protagonist, a problem/conflict, how the clinic/charity solved \\nthe problem and what was the impact \\n\\uf0b7 Include facts too \\n\\uf0b7 Use case studies in text, photos, video, audio and in person \\n\\uf0b7 Use quote from clients everywhere e.g. \\no I'm getting to see my child a lot more \\no Changing my position from a feeling of total helplessness to feeling that there is \\nactually a possibility to move forward \\no They gave me confidence to fight for my rights \\no It's knowing that I'm not alone. \\no I think it's a beacon of light in the darkness.”\"),\n",
       " Document(metadata={'source': 'pdfs\\\\case study.pdf', 'page': 2}, page_content='Case Study – Robert’s story* \\nRobert is a 61 year old grandfather who fell from a 35 foot tower whilst working as a decorator 28 \\nyears ago.  His ankle was crushed and he suffered severe injuries to his left leg which ended up \\nshorter than his right leg.   Despite this accident, and after a year’s rehabilitation, he found a job at a \\nprint works which involved heavy manual labour.  Over the years, his health began to deteriorate \\nboth as a result of his accident and the heavy lifting he was undertaking at the print works.  He \\nfinally had to stop work five years ago because he was suffering from a number of different medical \\nconditions involving his back, arms and legs and was in a great deal of pain. \\nAt that point, Robert began to claim a benefit called Employment Support Allowance (ESA) which is \\npaid to people who are under pension age but who cannot work because of ill-health or disability.  \\nHe is assessed regularly by a medical practitioner to ascertain his entitlement hasn’t changed.  \\nHowever, last year, despite the fact that Robert’s health is deteriorating as he gets older, the \\nassessor decided that he was fit to work and therefore should no longer be entitled to ESA.  As a \\nconsequence, the benefit stopped being paid immediately.  Robert was told that he could appeal \\nagainst this decision and knew that he needed legal help quickly so contacted his local law centre \\nwhich referred his appeal to LawWorks.  LawWorks arranged a meeting with a lawyer called Jeremy \\nwho was able to obtain all the medical information he needed to prepare a detailed submission \\nsetting out Robert’s case in full.  At the tribunal hearing, which Robert attended with Jeremy, the \\njudge took only five minutes to decide that the decision to stop the ESA had been mistaken and she \\nreinstated the benefit immediately, as well as awarding him arrears.  Due to the fact that Robert’s \\nmobility is now so impaired, she also recommended that he shouldn’t be subject to any further re-\\nassessments. \\nRobert now receives £109 a week ESA and is able to enjoy time looking after his garden and playing \\nwith his four grandchildren.  He is delighted with the result and said “I find it difficult to read and \\nwrite and so wouldn’t have known what to do without Jeremy’s help.  Even the judge said what a \\nfantastic job he had done and had saved her so much work.  If I hadn’t had the ESA reinstated I would \\nhave been forced to go to the Job Centre every day, applying for jobs I knew I simply couldn’t manage \\nbecause of my disabilities.  It’s made a huge difference to my life”. \\nLegal aid cuts, brought about by the Legal Aid, Sentencing and Punishment of Offenders Act 2012, \\nhave deprived large numbers of people with disabilities of legal support in relation to appeals for \\nbenefit applications. The total number of people granted legal aid in welfare cases plummeted \\nfrom 29,801 in 2011-12 to 308 in 2016-17 (source: written question in Parliament dated 1 March \\n2018).  Please help LawWorks to support access to justice by donating via our website. \\n*Names and places have been altered to protect client confidentiality'),\n",
       " Document(metadata={'source': 'pdfs\\\\case study.pdf', 'page': 3}, page_content='Case Study – Rachel’s story* \\nRachel is a British woman who spent 12 years living in Greece, working as an English teacher.  She \\nhad a long term relationship with a Greek man and together they had three children. The children’s \\nfather lost his job, was never able to find alternative work and became dependent on alcohol.  He \\nstarted to abuse Rachel through his aggressive behaviour but she felt she had no alternative but to \\nstay with him and carry on working full time, for the sake of the children.  However, one day, the \\nfather attacked Rachel violently in front of her children, leaving her bruised, bleeding and terrified, \\nand she fled to safety with the children to a friend’s house, on the advice of the police.   \\nWith her partner making violent threats despite a restraining order, and having no money as he had \\nwithdrawn all the funds from her account, Rachel took the difficult decision to return with the \\nchildren to in England.  However, after several months in the UK, Rachel found herself being arrested \\nby the police for removing the children from Greece without their father’s consent.  She was \\nreleased on bail and, although she initially qualified for legal aid, this did not last.  Rachel realised \\nthat she needed to understand her legal position quickly but she could not afford to pay for a \\nlawyer.  At this stage Rachel was desperate but fortunately she found the Anglia Law School Law \\nClinic which had been recently established with support from LawWorks, where volunteer lawyers \\nprovide free family law advice.  At the clinic, despite the fact that the odds were stacked heavily \\nagainst her, Rachel was given the confidence to prepare and organise her defence against her \\nformer partner’s claims.   At the final hearing, the judge concluded that the children should not be \\nreturned to Greece, having been persuaded by the strength of Rachel’s evidence. \\nLife is still difficult for Rachel and her children as they face challenges ahead.  She remains extremely \\ngrateful to the volunteer lawyers and says, “Without them I would have fallen apart in court because \\nI was so emotional.  I was a complete mess and just trying to be brave.  But they gave me the \\nconfidence to do it, suggested things I hadn’t thought of and taught me how to organise the case.  I \\nwill be eternally grateful to them for their help and dedication.” \\nThe number of people accessing legal aid in family law matters has fallen by 80% in the past seven \\nyears (source: Guardian article dated 26.12.18 referencing House of Commons Library figures) \\nleading to a huge rise in the number of litigants in person in the family courts.  Please help \\nLawWorks to support access to justice by donating via our website. \\n \\n*Names and places have been altered to protect client confidentiality \\n \\n \\n \\n \\n \\n \\n \\nPlease contact Kate Buchanan at LawWorks at kate.buchanan@lawworks.org.uk or 020 7092 3947 \\nfor further information/help.')]"
      ]
     },
     "execution_count": 78,
     "metadata": {},
     "output_type": "execute_result"
    }
   ],
   "source": [
    "from langchain_community.document_loaders import PyPDFLoader\n",
    "\n",
    "\n",
    "loader = PyPDFLoader(\"pdfs\\case study.pdf\")\n",
    "documents = loader.load_and_split()\n",
    "documents"
   ]
  },
  {
   "cell_type": "markdown",
   "metadata": {},
   "source": [
    "# pages of pdf"
   ]
  },
  {
   "cell_type": "code",
   "execution_count": 79,
   "metadata": {},
   "outputs": [
    {
     "data": {
      "text/plain": [
       "['Case Studies \\n“I’ve learned that people will forget what you’ve said, people will forget what \\nyou did, but people will never forget how you made them feel.”  Maya Angelou \\nWhere case studies can be used: \\n\\uf0b7 Websites (ideally front page or one click away) \\n\\uf0b7 Fundraising Applications \\n\\uf0b7 Annual Reports \\n\\uf0b7 Press releases \\n\\uf0b7 Newsletters \\n\\uf0b7 Social media \\n\\uf0b7 Fundraising events (eg with client in person) \\n\\uf0b7 Conferences \\n\\uf0b7 Policy briefings \\n\\uf0b7 Volunteer recruitment \\n\\uf0b7 Radio Appeals/Podcasts \\n \\nTips for obtaining case studies \\n \\n \\nChoose a case that either is typical of your clinic’s work, or that demonstrates a current policy issue.  \\n \\n \\nWhen you ask a client for permission to use their story, explain to them the purposes for which that \\nthe case study will be used and how this will help the clinic, and other people like them, in the \\nfuture.  For instance, this will help the clinic to raise money; this will help us to change the law so \\nthat this doesn’t happen in the future, etc.   \\n \\n \\nMake sure that the client knows that their name will not be used and that they will be able to make \\nchanges to any final copy of it before it is used. \\n \\n \\nAsk the client to tell you their story in their own words e.g. \\n \\n\\uf0b7 Tell me about your legal problem \\n\\uf0b7 What led to these legal problems? \\n\\uf0b7 How did the clinic help? \\n\\uf0b7 What difference did the help make? \\n\\uf0b7 What might have happened if the client hadn’t received that advice? \\n \\nDon’t be afraid to leave silences – sometimes the most useful detail comes after some reflection. \\nSometimes people also need some prompting – here are some useful prompt questions:',\n",
       " \"What was that like? \\nCan you tell me some more about that? \\nWhat led to that decision? \\nCan you give me an example? \\nWhat happened next? \\nHow did that feel? \\n \\n \\nTry to record any interesting small details about the story or the client’s situation that make the \\nstory unique and bring the events to life. \\n \\n \\nCheck the basic story with the lawyer who was involved in case there are any gaps. \\n \\n \\nDraft the case study (e.g. 400 words depending on purpose) and send it to both the lawyer and the \\nclient for their approval.  We often use the real name of the lawyer and their firm (which also might \\nwant to use it for their CSR publicity) but always anonymise the client.  Ask the client to confirm in \\nwriting their permission for all relevant organisations to use it (ensure you are GDPR compliant) \\n \\n \\nImages can really help to bring a case study to life. If you can’t use a photo of the client, include \\nphotos where you can of images you might associate with the client’s situation, or the support they \\nwere given. For instance: \\n \\n\\uf0b7 a pile of letters \\n\\uf0b7 the lawyer involved \\n\\uf0b7 people talking at the clinic (without showing their faces) \\n\\uf0b7 detail such as someone’s hands holding a pen, or a cup of tea \\n \\n \\nRemember: \\n\\uf0b7 Avoid too much detail \\n\\uf0b7 Don’t be too distant or too embroiled \\n\\uf0b7 The reader/listener should be able to understand what the client was feeling (i.e. make them \\nfeel some emotion) \\n\\uf0b7 Take them on a journey with a protagonist, a problem/conflict, how the clinic/charity solved \\nthe problem and what was the impact \\n\\uf0b7 Include facts too \\n\\uf0b7 Use case studies in text, photos, video, audio and in person \\n\\uf0b7 Use quote from clients everywhere e.g. \\no I'm getting to see my child a lot more \\no Changing my position from a feeling of total helplessness to feeling that there is \\nactually a possibility to move forward \\no They gave me confidence to fight for my rights \\no It's knowing that I'm not alone. \\no I think it's a beacon of light in the darkness.”\",\n",
       " 'Case Study – Robert’s story* \\nRobert is a 61 year old grandfather who fell from a 35 foot tower whilst working as a decorator 28 \\nyears ago.  His ankle was crushed and he suffered severe injuries to his left leg which ended up \\nshorter than his right leg.   Despite this accident, and after a year’s rehabilitation, he found a job at a \\nprint works which involved heavy manual labour.  Over the years, his health began to deteriorate \\nboth as a result of his accident and the heavy lifting he was undertaking at the print works.  He \\nfinally had to stop work five years ago because he was suffering from a number of different medical \\nconditions involving his back, arms and legs and was in a great deal of pain. \\nAt that point, Robert began to claim a benefit called Employment Support Allowance (ESA) which is \\npaid to people who are under pension age but who cannot work because of ill-health or disability.  \\nHe is assessed regularly by a medical practitioner to ascertain his entitlement hasn’t changed.  \\nHowever, last year, despite the fact that Robert’s health is deteriorating as he gets older, the \\nassessor decided that he was fit to work and therefore should no longer be entitled to ESA.  As a \\nconsequence, the benefit stopped being paid immediately.  Robert was told that he could appeal \\nagainst this decision and knew that he needed legal help quickly so contacted his local law centre \\nwhich referred his appeal to LawWorks.  LawWorks arranged a meeting with a lawyer called Jeremy \\nwho was able to obtain all the medical information he needed to prepare a detailed submission \\nsetting out Robert’s case in full.  At the tribunal hearing, which Robert attended with Jeremy, the \\njudge took only five minutes to decide that the decision to stop the ESA had been mistaken and she \\nreinstated the benefit immediately, as well as awarding him arrears.  Due to the fact that Robert’s \\nmobility is now so impaired, she also recommended that he shouldn’t be subject to any further re-\\nassessments. \\nRobert now receives £109 a week ESA and is able to enjoy time looking after his garden and playing \\nwith his four grandchildren.  He is delighted with the result and said “I find it difficult to read and \\nwrite and so wouldn’t have known what to do without Jeremy’s help.  Even the judge said what a \\nfantastic job he had done and had saved her so much work.  If I hadn’t had the ESA reinstated I would \\nhave been forced to go to the Job Centre every day, applying for jobs I knew I simply couldn’t manage \\nbecause of my disabilities.  It’s made a huge difference to my life”. \\nLegal aid cuts, brought about by the Legal Aid, Sentencing and Punishment of Offenders Act 2012, \\nhave deprived large numbers of people with disabilities of legal support in relation to appeals for \\nbenefit applications. The total number of people granted legal aid in welfare cases plummeted \\nfrom 29,801 in 2011-12 to 308 in 2016-17 (source: written question in Parliament dated 1 March \\n2018).  Please help LawWorks to support access to justice by donating via our website. \\n*Names and places have been altered to protect client confidentiality',\n",
       " 'Case Study – Rachel’s story* \\nRachel is a British woman who spent 12 years living in Greece, working as an English teacher.  She \\nhad a long term relationship with a Greek man and together they had three children. The children’s \\nfather lost his job, was never able to find alternative work and became dependent on alcohol.  He \\nstarted to abuse Rachel through his aggressive behaviour but she felt she had no alternative but to \\nstay with him and carry on working full time, for the sake of the children.  However, one day, the \\nfather attacked Rachel violently in front of her children, leaving her bruised, bleeding and terrified, \\nand she fled to safety with the children to a friend’s house, on the advice of the police.   \\nWith her partner making violent threats despite a restraining order, and having no money as he had \\nwithdrawn all the funds from her account, Rachel took the difficult decision to return with the \\nchildren to in England.  However, after several months in the UK, Rachel found herself being arrested \\nby the police for removing the children from Greece without their father’s consent.  She was \\nreleased on bail and, although she initially qualified for legal aid, this did not last.  Rachel realised \\nthat she needed to understand her legal position quickly but she could not afford to pay for a \\nlawyer.  At this stage Rachel was desperate but fortunately she found the Anglia Law School Law \\nClinic which had been recently established with support from LawWorks, where volunteer lawyers \\nprovide free family law advice.  At the clinic, despite the fact that the odds were stacked heavily \\nagainst her, Rachel was given the confidence to prepare and organise her defence against her \\nformer partner’s claims.   At the final hearing, the judge concluded that the children should not be \\nreturned to Greece, having been persuaded by the strength of Rachel’s evidence. \\nLife is still difficult for Rachel and her children as they face challenges ahead.  She remains extremely \\ngrateful to the volunteer lawyers and says, “Without them I would have fallen apart in court because \\nI was so emotional.  I was a complete mess and just trying to be brave.  But they gave me the \\nconfidence to do it, suggested things I hadn’t thought of and taught me how to organise the case.  I \\nwill be eternally grateful to them for their help and dedication.” \\nThe number of people accessing legal aid in family law matters has fallen by 80% in the past seven \\nyears (source: Guardian article dated 26.12.18 referencing House of Commons Library figures) \\nleading to a huge rise in the number of litigants in person in the family courts.  Please help \\nLawWorks to support access to justice by donating via our website. \\n \\n*Names and places have been altered to protect client confidentiality \\n \\n \\n \\n \\n \\n \\n \\nPlease contact Kate Buchanan at LawWorks at kate.buchanan@lawworks.org.uk or 020 7092 3947 \\nfor further information/help.']"
      ]
     },
     "execution_count": 79,
     "metadata": {},
     "output_type": "execute_result"
    }
   ],
   "source": [
    "# Extract the text content from the Document objects\n",
    "pages = [doc.page_content for doc in documents]\n",
    "pages\n"
   ]
  },
  {
   "cell_type": "markdown",
   "metadata": {},
   "source": [
    "# text splitter"
   ]
  },
  {
   "cell_type": "code",
   "execution_count": 80,
   "metadata": {},
   "outputs": [
    {
     "name": "stdout",
     "output_type": "stream",
     "text": [
      "Number of chunks: 4\n",
      "Type of first chunk: <class 'langchain_core.documents.base.Document'>\n"
     ]
    }
   ],
   "source": [
    "from langchain_text_splitters import RecursiveCharacterTextSplitter , CharacterTextSplitter\n",
    "\n",
    "text_split = CharacterTextSplitter(chunk_size=100, chunk_overlap=50)\n",
    "chunks = text_split.create_documents(pages)\n",
    "\n",
    "# Display results\n",
    "print(f\"Number of chunks: {len(chunks)}\")\n",
    "print(f\"Type of first chunk: {type(chunks[0])}\")"
   ]
  },
  {
   "cell_type": "markdown",
   "metadata": {},
   "source": [
    "# Embeddings"
   ]
  },
  {
   "cell_type": "code",
   "execution_count": 81,
   "metadata": {},
   "outputs": [
    {
     "data": {
      "text/plain": [
       "GoogleGenerativeAIEmbeddings(client=<google.ai.generativelanguage_v1beta.services.generative_service.client.GenerativeServiceClient object at 0x00000101C3C55760>, model='models/text-embedding-004', task_type='retrieval_document', google_api_key=SecretStr('**********'), credentials=None, client_options=None, transport=None, request_options=None)"
      ]
     },
     "execution_count": 81,
     "metadata": {},
     "output_type": "execute_result"
    }
   ],
   "source": [
    "from langchain_google_genai import GoogleGenerativeAIEmbeddings\n",
    "embedding_model = GoogleGenerativeAIEmbeddings(google_api_key= GOOGLE_API_KEY,  model=\"models/text-embedding-004\",  chunk_size=100,task_type=\"retrieval_document\")\n",
    "\n",
    "\n",
    "embedding_model\n"
   ]
  },
  {
   "cell_type": "markdown",
   "metadata": {},
   "source": [
    "# faiss vector-db"
   ]
  },
  {
   "cell_type": "code",
   "execution_count": 82,
   "metadata": {},
   "outputs": [],
   "source": [
    "from langchain.vectorstores import FAISS\n",
    "vector_store = FAISS.from_texts(pages, embedding=embedding_model)\n",
    "vector_store.save_local(\"faiss_index\")"
   ]
  },
  {
   "cell_type": "code",
   "execution_count": 83,
   "metadata": {},
   "outputs": [
    {
     "name": "stdout",
     "output_type": "stream",
     "text": [
      "<class 'langchain_core.vectorstores.base.VectorStoreRetriever'>\n"
     ]
    }
   ],
   "source": [
    "retriever = vector_store.as_retriever(search_kwargs={\"k\": 5})\n",
    "\n",
    "print(type(retriever))"
   ]
  },
  {
   "cell_type": "markdown",
   "metadata": {},
   "source": [
    "# Prompt template"
   ]
  },
  {
   "cell_type": "code",
   "execution_count": 84,
   "metadata": {},
   "outputs": [],
   "source": [
    "from langchain_core.messages import SystemMessage\n",
    "from langchain_core.prompts import ChatMessagePromptTemplate, ChatPromptTemplate , HumanMessagePromptTemplate\n"
   ]
  },
  {
   "cell_type": "code",
   "execution_count": 85,
   "metadata": {},
   "outputs": [],
   "source": [
    "chat_template = ChatPromptTemplate.from_messages([\n",
    "    # System Message Prompt Template\n",
    "    SystemMessage(content=\"\"\"You are an expert Legal Research Assistant specializing in case law analysis and legal drafting.\n",
    "                 Given case law context and a question from the user, you should:\n",
    "                 1. Analyze the legal principles and precedents from the provided cases\n",
    "                 2. Identify relevant holdings and ratio decidend\n",
    "                 3. Provide well-reasoned legal analysis with proper citations\n",
    "                 4. When drafting, follow proper legal writing conventions and structure\n",
    "                 \n",
    "                 Format your responses with:\n",
    "                 - Clear headings for different sections\n",
    "                 - Proper case citations\n",
    "                 - Specific references to relevant passages from the context\n",
    "                 - Clear distinction between holdings and obiter dicta\n",
    "                 - Practical applications or implications when relevant\"\"\"),\n",
    "    \n",
    "    # Human Message Prompt Template\n",
    "    HumanMessagePromptTemplate.from_template(\"\"\"Analyze the following legal materials and answer the question provided.\n",
    "    \n",
    "    Case Law Context: {context}\n",
    "    \n",
    "    Legal Query: {question}\n",
    "    \n",
    "    Analysis: \"\"\")\n",
    "])"
   ]
  },
  {
   "cell_type": "code",
   "execution_count": 86,
   "metadata": {},
   "outputs": [],
   "source": [
    "from langchain_core.output_parsers import StrOutputParser\n",
    "\n",
    "output_parser = StrOutputParser()"
   ]
  },
  {
   "cell_type": "code",
   "execution_count": 87,
   "metadata": {},
   "outputs": [],
   "source": [
    "from langchain_core.runnables import RunnablePassthrough\n",
    "from datetime import datetime\n",
    "def format_legal_docs(docs):\n",
    "    \"\"\"Format legal documents with proper structure and citations\"\"\"\n",
    "    formatted_docs = []\n",
    "    for i, doc in enumerate(docs, 1):\n",
    "        # Extract metadata if available\n",
    "        citation = doc.metadata.get('citation', 'No citation available')\n",
    "        date = doc.metadata.get('date', 'No date available')\n",
    "        court = doc.metadata.get('court', 'Court information not available')\n",
    "        \n",
    "        # Format each document with legal context\n",
    "        formatted_text = f\"\"\"\n",
    "Case Document {i}\n",
    "Citation: {citation}\n",
    "Court: {court}\n",
    "Date: {date}\n",
    "---\n",
    "{doc.page_content}\n",
    "---\"\"\"\n",
    "        formatted_docs.append(formatted_text)\n",
    "    \n",
    "    return \"\\n\\n\".join(formatted_docs)\n",
    "\n",
    "# Define the RAG chain with legal processing\n",
    "rag_chain = (\n",
    "    {\n",
    "        \"context\": retriever | format_legal_docs,\n",
    "        \"question\": RunnablePassthrough(),\n",
    "        \"metadata\": lambda x: {\n",
    "            \"query_type\": \"legal_analysis\",\n",
    "            \"timestamp\": datetime.now().isoformat()\n",
    "        }\n",
    "    }\n",
    "    | chat_template\n",
    "    | llm_model\n",
    "    | output_parser\n",
    ")"
   ]
  },
  {
   "cell_type": "code",
   "execution_count": 90,
   "metadata": {},
   "outputs": [
    {
     "name": "stdout",
     "output_type": "stream",
     "text": [
      "## Case Study: Robert's Story\n",
      "\n",
      "**I. Introduction**\n",
      "\n",
      "This case study details the experience of Robert, a 61-year-old man, in navigating the complexities of the Employment Support Allowance (ESA) system following a debilitating workplace accident.  His case highlights the critical role of legal aid in ensuring access to justice for vulnerable individuals facing benefit appeals.  Due to legal aid cuts stemming from the Legal Aid, Sentencing and Punishment of Offenders Act 2012, Robert's successful appeal stands as a testament to the vital assistance provided by organizations like LawWorks.\n",
      "\n",
      "**II. Factual Background**\n",
      "\n",
      "Robert, a former decorator, suffered a severe leg injury 28 years prior, resulting in a shortened leg and subsequent health complications. Despite his injuries, he worked in a physically demanding job at a print works for many years.  However, his health deteriorated, forcing him to cease working five years ago.  He subsequently applied for and received ESA.\n",
      "\n",
      "Last year, Robert's ESA was unexpectedly terminated by an assessor who deemed him fit for work, despite his ongoing health issues and worsening condition with age.  Facing the immediate cessation of his crucial benefit income, Robert sought legal assistance.\n",
      "\n",
      "\n",
      "**III. Legal Intervention and Outcome**\n",
      "\n",
      "Through LawWorks, Robert was connected with Jeremy, a lawyer who diligently gathered Robert's medical records and prepared a comprehensive submission for his appeal.  At the tribunal hearing, the judge swiftly overturned the decision to terminate Robert's ESA, reinstating his benefits and awarding back payments.  Recognizing Robert's significant mobility limitations, the judge also recommended against future reassessments.\n",
      "\n",
      "**IV. Impact and Significance**\n",
      "\n",
      "Robert now receives £109 per week in ESA, enabling him to maintain his quality of life, care for his garden, and spend time with his grandchildren. He expresses profound gratitude for Jeremy's assistance, stating, “I find it difficult to read and write and so wouldn’t have known what to do without Jeremy’s help.  Even the judge said what a fantastic job he had done and had saved her so much work.”  Without the reinstatement of his ESA, Robert would have faced the impossible task of applying for jobs he was physically incapable of performing.\n",
      "\n",
      "**V. Broader Implications**\n",
      "\n",
      "Robert's case underscores the devastating impact of legal aid cuts on vulnerable individuals. The drastic reduction in legal aid for welfare cases, from 29,801 in 2011-12 to 308 in 2016-17, leaves countless individuals without the legal representation necessary to protect their rights and access essential benefits.  This case highlights the urgent need for increased funding and resources to support organizations like LawWorks in their vital work of ensuring access to justice for those most in need.\n",
      "\n",
      "**VI. Conclusion**\n",
      "\n",
      "Robert's story serves as a powerful illustration of the critical role legal aid plays in protecting the rights and well-being of vulnerable individuals.  His successful appeal, facilitated by the dedicated work of LawWorks and Jeremy, underscores the profound impact that accessible legal representation can have on individuals' lives. The case serves as a compelling argument for increased investment in legal aid to prevent similar situations where individuals are left without the necessary support to navigate complex legal systems.\n"
     ]
    }
   ],
   "source": [
    "response = rag_chain.invoke(\"As Lawyer create drafting of this case:Robert’s story\")\n",
    "print(response)"
   ]
  },
  {
   "cell_type": "code",
   "execution_count": null,
   "metadata": {},
   "outputs": [],
   "source": []
  }
 ],
 "metadata": {
  "kernelspec": {
   "display_name": "law-venv",
   "language": "python",
   "name": "python3"
  },
  "language_info": {
   "codemirror_mode": {
    "name": "ipython",
    "version": 3
   },
   "file_extension": ".py",
   "mimetype": "text/x-python",
   "name": "python",
   "nbconvert_exporter": "python",
   "pygments_lexer": "ipython3",
   "version": "3.9.13"
  }
 },
 "nbformat": 4,
 "nbformat_minor": 2
}
